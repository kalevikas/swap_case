{
 "cells": [
  {
   "cell_type": "code",
   "execution_count": 1,
   "id": "79a277d3",
   "metadata": {},
   "outputs": [],
   "source": [
    "def swap_case(s):\n",
    "    if s.upper==True:\n",
    "        s=s.lower\n",
    "        return s\n",
    "    elif s.lower==True:\n",
    "        s=s.upper\n",
    "        return s\n",
    "swap_case('HackerRank.com presents \"Pythonist 2\".')\n"
   ]
  },
  {
   "cell_type": "code",
   "execution_count": 2,
   "id": "1501d84e",
   "metadata": {},
   "outputs": [],
   "source": [
    "def swap_case(s):\n",
    "    x=\"\"\n",
    "    for c in s:\n",
    "        if c.islower():\n",
    "            c=c.upper()\n",
    "        else:\n",
    "            c=c.lower()\n",
    "        \n",
    "        x+=\"\".join(c)\n",
    "        \n",
    "    return x\n",
    "            \n",
    "        "
   ]
  },
  {
   "cell_type": "code",
   "execution_count": 3,
   "id": "9d36918d",
   "metadata": {},
   "outputs": [
    {
     "data": {
      "text/plain": [
       "'VIkAs'"
      ]
     },
     "execution_count": 3,
     "metadata": {},
     "output_type": "execute_result"
    }
   ],
   "source": [
    "swap_case('viKaS')"
   ]
  },
  {
   "cell_type": "code",
   "execution_count": 4,
   "id": "4e7abde1",
   "metadata": {},
   "outputs": [
    {
     "data": {
      "text/plain": [
       "'hACKERrANK.COM PRESENTS \"pYTHONIST 2\".'"
      ]
     },
     "execution_count": 4,
     "metadata": {},
     "output_type": "execute_result"
    }
   ],
   "source": [
    "swap_case('HackerRank.com presents \"Pythonist 2\".')"
   ]
  },
  {
   "cell_type": "markdown",
   "id": "d9017570",
   "metadata": {},
   "source": [
    "### Another method usnig built in function swapcase:"
   ]
  },
  {
   "cell_type": "code",
   "execution_count": 6,
   "id": "5538973d",
   "metadata": {},
   "outputs": [],
   "source": [
    "def swap_case1(s):\n",
    "    return s.swapcase()"
   ]
  },
  {
   "cell_type": "code",
   "execution_count": 7,
   "id": "8ca01b4f",
   "metadata": {},
   "outputs": [
    {
     "data": {
      "text/plain": [
       "'hACKERrANK.COM PRESENTS \"pYTHONIST 2\".'"
      ]
     },
     "execution_count": 7,
     "metadata": {},
     "output_type": "execute_result"
    }
   ],
   "source": [
    "swap_case1('HackerRank.com presents \"Pythonist 2\".')"
   ]
  },
  {
   "cell_type": "code",
   "execution_count": null,
   "id": "07f961b0",
   "metadata": {},
   "outputs": [],
   "source": []
  }
 ],
 "metadata": {
  "kernelspec": {
   "display_name": "Python 3",
   "language": "python",
   "name": "python3"
  },
  "language_info": {
   "codemirror_mode": {
    "name": "ipython",
    "version": 3
   },
   "file_extension": ".py",
   "mimetype": "text/x-python",
   "name": "python",
   "nbconvert_exporter": "python",
   "pygments_lexer": "ipython3",
   "version": "3.8.8"
  }
 },
 "nbformat": 4,
 "nbformat_minor": 5
}
